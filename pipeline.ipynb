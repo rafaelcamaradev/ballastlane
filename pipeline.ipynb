{
 "cells": [
  {
   "cell_type": "code",
   "execution_count": null,
   "id": "082629ea",
   "metadata": {},
   "outputs": [
    {
     "name": "stdout",
     "output_type": "stream",
     "text": [
      "Ingesting raw data...\n",
      "\n",
      "--- Analytical Results ---\n",
      "Total number of customers: 17000\n",
      "Total number of offers: 10\n"
     ]
    },
    {
     "name": "stderr",
     "output_type": "stream",
     "text": [
      "                                                                                \r"
     ]
    },
    {
     "name": "stdout",
     "output_type": "stream",
     "text": [
      "Total number of events: 303572\n"
     ]
    },
    {
     "name": "stderr",
     "output_type": "stream",
     "text": [
      "                                                                                \r"
     ]
    },
    {
     "name": "stdout",
     "output_type": "stream",
     "text": [
      "Number of unique customers who made a purchase: 0\n",
      "\n",
      "Top 5 most popular offers (by number of completed offers):\n"
     ]
    },
    {
     "name": "stderr",
     "output_type": "stream",
     "text": [
      "                                                                                \r"
     ]
    },
    {
     "name": "stdout",
     "output_type": "stream",
     "text": [
      "+--------------------------------+----------+--------------+\n",
      "|offer_id                        |offer_type|purchase_count|\n",
      "+--------------------------------+----------+--------------+\n",
      "|fafdcd668e3743c1bb461111dcafc2a4|discount  |4927          |\n",
      "|2298d6c36e964ae4a3e7e9706d1fb8c2|discount  |4698          |\n",
      "|9b98b8c7a33c4b65b9aebfe6a799e6d9|bogo      |3926          |\n",
      "|f19421c1d4aa40978ebb69ca19b0e20d|bogo      |3877          |\n",
      "|2906b810c7d4411798c6938adc9daaa5|discount  |3642          |\n",
      "+--------------------------------+----------+--------------+\n",
      "\n"
     ]
    },
    {
     "name": "stderr",
     "output_type": "stream",
     "text": [
      "[Stage 33:========>                                                 (1 + 6) / 7]\r"
     ]
    },
    {
     "name": "stdout",
     "output_type": "stream",
     "text": [
      "Average transaction amount: 12.78\n"
     ]
    },
    {
     "name": "stderr",
     "output_type": "stream",
     "text": [
      "                                                                                \r"
     ]
    },
    {
     "name": "stdout",
     "output_type": "stream",
     "text": [
      "\n",
      "Number of offers completed vs. not completed:\n"
     ]
    },
    {
     "name": "stderr",
     "output_type": "stream",
     "text": [
      "                                                                                \r"
     ]
    },
    {
     "name": "stdout",
     "output_type": "stream",
     "text": [
      "+---------------+----------------+\n",
      "|offer_completed|completion_count|\n",
      "+---------------+----------------+\n",
      "|              0|          272955|\n",
      "|              1|           30617|\n",
      "+---------------+----------------+\n",
      "\n",
      "\n",
      "Customer distribution by age group:\n",
      "+---------+--------------+\n",
      "|age_group|customer_count|\n",
      "+---------+--------------+\n",
      "|    25-34|          1380|\n",
      "|    35-44|          1869|\n",
      "|    45-54|          3013|\n",
      "|    55-64|          3421|\n",
      "|      65+|          6441|\n",
      "|      <25|           876|\n",
      "+---------+--------------+\n",
      "\n",
      "\n",
      "Offers with highest completion rate:\n"
     ]
    },
    {
     "name": "stderr",
     "output_type": "stream",
     "text": [
      "                                                                                \r"
     ]
    },
    {
     "name": "stdout",
     "output_type": "stream",
     "text": [
      "+--------------------------------+----------+------------+----------------+---------------+\n",
      "|offer_id                        |offer_type|total_events|completed_offers|completion_rate|\n",
      "+--------------------------------+----------+------------+----------------+---------------+\n",
      "|4d5c57ea9a6940dd891ad53e9dbe8da0|bogo      |2986        |2986            |100.0          |\n",
      "|9b98b8c7a33c4b65b9aebfe6a799e6d9|bogo      |3926        |3926            |100.0          |\n",
      "|2298d6c36e964ae4a3e7e9706d1fb8c2|discount  |4698        |4698            |100.0          |\n",
      "|2906b810c7d4411798c6938adc9daaa5|discount  |3642        |3642            |100.0          |\n",
      "|fafdcd668e3743c1bb461111dcafc2a4|discount  |4927        |4927            |100.0          |\n",
      "+--------------------------------+----------+------------+----------------+---------------+\n",
      "\n"
     ]
    },
    {
     "name": "stderr",
     "output_type": "stream",
     "text": [
      "[Stage 73:>                                                         (0 + 8) / 8]\r"
     ]
    },
    {
     "name": "stdout",
     "output_type": "stream",
     "text": [
      "+--------------------+----------------+------+---+------+--------------------+----------+----------+------+--------+--------------------+---------------+----+---------------+------+------+------------------------+-------------------+\n",
      "|         customer_id|became_member_on|gender|age|income|            offer_id|offer_type|difficulty|reward|duration|            channels|          event|time|offer_completed|reward|amount|event_timestamp_readable|     event_datetime|\n",
      "+--------------------+----------------+------+---+------+--------------------+----------+----------+------+--------+--------------------+---------------+----+---------------+------+------+------------------------+-------------------+\n",
      "|38fe809add3b4fcf9...|        20180712|  NULL|118|  NULL|                NULL|      NULL|      NULL|  NULL|    NULL|                NULL|           NULL|NULL|           NULL|  NULL|  NULL|                    NULL|               NULL|\n",
      "|8ec6ce2a7e7949b1b...|        20170925|  NULL|118|  NULL|                NULL|      NULL|      NULL|  NULL|    NULL|                NULL|           NULL|NULL|           NULL|  NULL|  NULL|                    NULL|               NULL|\n",
      "|8974fc5686fe429db...|        20161122|  NULL|118|  NULL|9b98b8c7a33c4b65b...|      bogo|         5|     5|       7|['web', 'email', ...|offer completed| 462|              1|     5|  NULL|     1969-12-31 21:07:42|1969-12-31 21:07:42|\n",
      "|c4863c7985cf408fa...|        20170824|  NULL|118|  NULL|ae264e3637204a6fb...|      bogo|        10|    10|       7|['email', 'mobile...|offer completed| 684|              1|    10|  NULL|     1969-12-31 21:11:24|1969-12-31 21:11:24|\n",
      "|0610b486422d4921a...|        20170715|     F| 55|112000|9b98b8c7a33c4b65b...|      bogo|         5|     5|       7|['web', 'email', ...|offer completed| 528|              1|     5|  NULL|     1969-12-31 21:08:48|1969-12-31 21:08:48|\n",
      "|389bc3fa690240e79...|        20180209|     M| 65| 53000|2906b810c7d441179...|  discount|        10|     2|       7|['web', 'email', ...|offer completed| 498|              1|     2|  NULL|     1969-12-31 21:08:18|1969-12-31 21:08:18|\n",
      "|389bc3fa690240e79...|        20180209|     M| 65| 53000|f19421c1d4aa40978...|      bogo|         5|     5|       5|['web', 'email', ...|offer completed|  60|              1|     5|  NULL|     1969-12-31 21:01:00|1969-12-31 21:01:00|\n",
      "|389bc3fa690240e79...|        20180209|     M| 65| 53000|f19421c1d4aa40978...|      bogo|         5|     5|       5|['web', 'email', ...|offer completed| 600|              1|     5|  NULL|     1969-12-31 21:10:00|1969-12-31 21:10:00|\n",
      "|68617ca6246f4fbc8...|        20171002|  NULL|118|  NULL|                NULL|      NULL|      NULL|  NULL|    NULL|                NULL|           NULL|NULL|           NULL|  NULL|  NULL|                    NULL|               NULL|\n",
      "|68be06ca386d4c319...|        20170212|  NULL|118|  NULL|fafdcd668e3743c1b...|  discount|        10|     2|      10|['web', 'email', ...|offer completed| 552|              1|     2|  NULL|     1969-12-31 21:09:12|1969-12-31 21:09:12|\n",
      "+--------------------+----------------+------+---+------+--------------------+----------+----------+------+--------+--------------------+---------------+----+---------------+------+------+------------------------+-------------------+\n",
      "only showing top 10 rows\n"
     ]
    },
    {
     "name": "stderr",
     "output_type": "stream",
     "text": [
      "[Stage 86:==============>                                           (2 + 6) / 8]\r"
     ]
    },
    {
     "name": "stdout",
     "output_type": "stream",
     "text": [
      "+--------------------+------+\n",
      "|         customer_id|amount|\n",
      "+--------------------+------+\n",
      "|0610b486422d4921a...|  NULL|\n",
      "|148adfcaa27d485b8...|  NULL|\n",
      "|2eeac8d8feae4a8ca...|  NULL|\n",
      "|31dda685af34476ca...|  NULL|\n",
      "|31dda685af34476ca...|  NULL|\n",
      "|31dda685af34476ca...|  NULL|\n",
      "|31dda685af34476ca...|  NULL|\n",
      "|389bc3fa690240e79...|  NULL|\n",
      "|389bc3fa690240e79...|  NULL|\n",
      "|389bc3fa690240e79...|  NULL|\n",
      "|38fe809add3b4fcf9...|  NULL|\n",
      "|440cf1fd7580490c9...|  NULL|\n",
      "|440cf1fd7580490c9...|  NULL|\n",
      "|440cf1fd7580490c9...|  NULL|\n",
      "|440cf1fd7580490c9...|  NULL|\n",
      "|440cf1fd7580490c9...|  NULL|\n",
      "|62cf5e10845442329...|  NULL|\n",
      "|6445de3b47274c759...|  NULL|\n",
      "|6445de3b47274c759...|  NULL|\n",
      "|68617ca6246f4fbc8...|  NULL|\n",
      "+--------------------+------+\n",
      "only showing top 20 rows\n"
     ]
    },
    {
     "name": "stderr",
     "output_type": "stream",
     "text": [
      "                                                                                \r"
     ]
    },
    {
     "name": "stdout",
     "output_type": "stream",
     "text": [
      "+-----------+----------------+------+---+------+--------+----------+----------+------+--------+--------+-----+----+---------------+------+------+------------------------+--------------+\n",
      "|customer_id|became_member_on|gender|age|income|offer_id|offer_type|difficulty|reward|duration|channels|event|time|offer_completed|reward|amount|event_timestamp_readable|event_datetime|\n",
      "+-----------+----------------+------+---+------+--------+----------+----------+------+--------+--------+-----+----+---------------+------+------+------------------------+--------------+\n",
      "+-----------+----------------+------+---+------+--------+----------+----------+------+--------+--------+-----+----+---------------+------+------+------------------------+--------------+\n",
      "\n"
     ]
    },
    {
     "name": "stderr",
     "output_type": "stream",
     "text": [
      "[Stage 104:>                                                        (0 + 8) / 8]\r"
     ]
    },
    {
     "name": "stdout",
     "output_type": "stream",
     "text": [
      "+--------------------+----------------+------+---+------+--------------------+----------+----------+------+--------+--------------------+---------------+----+---------------+------+------+------------------------+-------------------+\n",
      "|         customer_id|became_member_on|gender|age|income|            offer_id|offer_type|difficulty|reward|duration|            channels|          event|time|offer_completed|reward|amount|event_timestamp_readable|     event_datetime|\n",
      "+--------------------+----------------+------+---+------+--------------------+----------+----------+------+--------+--------------------+---------------+----+---------------+------+------+------------------------+-------------------+\n",
      "|c05652fa9d2c4fac9...|        20180127|     M| 62| 73000|9b98b8c7a33c4b65b...|      bogo|         5|     5|       7|['web', 'email', ...|offer completed|  72|              1|     5|  NULL|     1969-12-31 21:01:12|1969-12-31 21:01:12|\n",
      "|6be0513109fe4d738...|        20180613|     M| 42| 57000|2906b810c7d441179...|  discount|        10|     2|       7|['web', 'email', ...|offer completed| 450|              1|     2|  NULL|     1969-12-31 21:07:30|1969-12-31 21:07:30|\n",
      "|9de54389816342449...|        20180422|  NULL|118|  NULL|                NULL|      NULL|      NULL|  NULL|    NULL|                NULL|           NULL|NULL|           NULL|  NULL|  NULL|                    NULL|               NULL|\n",
      "|f5de20984950433d9...|        20150910|     M| 48| 75000|ae264e3637204a6fb...|      bogo|        10|    10|       7|['email', 'mobile...|offer completed| 420|              1|    10|  NULL|     1969-12-31 21:07:00|1969-12-31 21:07:00|\n",
      "|f5de20984950433d9...|        20150910|     M| 48| 75000|ae264e3637204a6fb...|      bogo|        10|    10|       7|['email', 'mobile...|offer completed| 198|              1|    10|  NULL|     1969-12-31 21:03:18|1969-12-31 21:03:18|\n",
      "|f5de20984950433d9...|        20150910|     M| 48| 75000|4d5c57ea9a6940dd8...|      bogo|        10|    10|       5|['web', 'email', ...|offer completed| 360|              1|    10|  NULL|     1969-12-31 21:06:00|1969-12-31 21:06:00|\n",
      "|f5de20984950433d9...|        20150910|     M| 48| 75000|4d5c57ea9a6940dd8...|      bogo|        10|    10|       5|['web', 'email', ...|offer completed| 582|              1|    10|  NULL|     1969-12-31 21:09:42|1969-12-31 21:09:42|\n",
      "|9da3f2339b244229a...|        20180109|     F| 49| 36000|2906b810c7d441179...|  discount|        10|     2|       7|['web', 'email', ...|offer completed| 528|              1|     2|  NULL|     1969-12-31 21:08:48|1969-12-31 21:08:48|\n",
      "|fc58860830e648c9b...|        20180613|     M| 79| 64000|                NULL|      NULL|      NULL|  NULL|    NULL|                NULL|           NULL|NULL|           NULL|  NULL|  NULL|                    NULL|               NULL|\n",
      "|f608dc84f5f744a88...|        20170502|     F| 68|115000|fafdcd668e3743c1b...|  discount|        10|     2|      10|['web', 'email', ...|offer completed| 678|              1|     2|  NULL|     1969-12-31 21:11:18|1969-12-31 21:11:18|\n",
      "|f608dc84f5f744a88...|        20170502|     F| 68|115000|9b98b8c7a33c4b65b...|      bogo|         5|     5|       7|['web', 'email', ...|offer completed| 318|              1|     5|  NULL|     1969-12-31 21:05:18|1969-12-31 21:05:18|\n",
      "|f608dc84f5f744a88...|        20170502|     F| 68|115000|9b98b8c7a33c4b65b...|      bogo|         5|     5|       7|['web', 'email', ...|offer completed|  54|              1|     5|  NULL|     1969-12-31 21:00:54|1969-12-31 21:00:54|\n",
      "|7a5f837ad609476cb...|        20180321|     F| 24| 53000|f19421c1d4aa40978...|      bogo|         5|     5|       5|['web', 'email', ...|offer completed| 522|              1|     5|  NULL|     1969-12-31 21:08:42|1969-12-31 21:08:42|\n",
      "|25540a042d7d4aabb...|        20171130|     F| 71|108000|9b98b8c7a33c4b65b...|      bogo|         5|     5|       7|['web', 'email', ...|offer completed| 630|              1|     5|  NULL|     1969-12-31 21:10:30|1969-12-31 21:10:30|\n",
      "|e1e4b47968ef42509...|        20161221|     M| 42| 51000|9b98b8c7a33c4b65b...|      bogo|         5|     5|       7|['web', 'email', ...|offer completed| 444|              1|     5|  NULL|     1969-12-31 21:07:24|1969-12-31 21:07:24|\n",
      "|e1e4b47968ef42509...|        20161221|     M| 42| 51000|0b1e1539f2cc45b7b...|  discount|        20|     5|      10|    ['web', 'email']|offer completed| 564|              1|     5|  NULL|     1969-12-31 21:09:24|1969-12-31 21:09:24|\n",
      "|5465e844845a4a5c8...|        20171120|     M| 65| 56000|0b1e1539f2cc45b7b...|  discount|        20|     5|      10|    ['web', 'email']|offer completed| 690|              1|     5|  NULL|     1969-12-31 21:11:30|1969-12-31 21:11:30|\n",
      "|5465e844845a4a5c8...|        20171120|     M| 65| 56000|f19421c1d4aa40978...|      bogo|         5|     5|       5|['web', 'email', ...|offer completed| 360|              1|     5|  NULL|     1969-12-31 21:06:00|1969-12-31 21:06:00|\n",
      "|c029ebbd5e584674b...|        20171108|  NULL|118|  NULL|                NULL|      NULL|      NULL|  NULL|    NULL|                NULL|           NULL|NULL|           NULL|  NULL|  NULL|                    NULL|               NULL|\n",
      "|05ea8d8a95eb4b209...|        20151103|     F| 62|111000|f19421c1d4aa40978...|      bogo|         5|     5|       5|['web', 'email', ...|offer completed|  48|              1|     5|  NULL|     1969-12-31 21:00:48|1969-12-31 21:00:48|\n",
      "+--------------------+----------------+------+---+------+--------------------+----------+----------+------+--------+--------------------+---------------+----+---------------+------+------+------------------------+-------------------+\n",
      "only showing top 20 rows\n"
     ]
    },
    {
     "name": "stderr",
     "output_type": "stream",
     "text": [
      "[Stage 118:>                                                        (0 + 7) / 7]\r"
     ]
    },
    {
     "name": "stdout",
     "output_type": "stream",
     "text": [
      "+--------------------+----------+----------+------+--------+----------------+--------------------+---------------+----+---------------+------+------+------------------------+-------------------+\n",
      "|            offer_id|offer_type|difficulty|reward|duration|        channels|         customer_id|          event|time|offer_completed|reward|amount|event_timestamp_readable|     event_datetime|\n",
      "+--------------------+----------+----------+------+--------+----------------+--------------------+---------------+----+---------------+------+------+------------------------+-------------------+\n",
      "|0b1e1539f2cc45b7b...|  discount|        20|     5|      10|['web', 'email']|ffa81afacde642a3a...|offer completed|  42|              1|     5|  NULL|     1969-12-31 21:00:42|1969-12-31 21:00:42|\n",
      "|0b1e1539f2cc45b7b...|  discount|        20|     5|      10|['web', 'email']|fe66b9029bf34fdba...|offer completed| 540|              1|     5|  NULL|     1969-12-31 21:09:00|1969-12-31 21:09:00|\n",
      "|0b1e1539f2cc45b7b...|  discount|        20|     5|      10|['web', 'email']|fcdf273bdfdb44a69...|offer completed| 540|              1|     5|  NULL|     1969-12-31 21:09:00|1969-12-31 21:09:00|\n",
      "|0b1e1539f2cc45b7b...|  discount|        20|     5|      10|['web', 'email']|fc3405b8b39d40cb8...|offer completed| 558|              1|     5|  NULL|     1969-12-31 21:09:18|1969-12-31 21:09:18|\n",
      "|0b1e1539f2cc45b7b...|  discount|        20|     5|      10|['web', 'email']|fadea3ebc62043659...|offer completed| 276|              1|     5|  NULL|     1969-12-31 21:04:36|1969-12-31 21:04:36|\n",
      "|0b1e1539f2cc45b7b...|  discount|        20|     5|      10|['web', 'email']|f97ac1f446e747d49...|offer completed| 618|              1|     5|  NULL|     1969-12-31 21:10:18|1969-12-31 21:10:18|\n",
      "|0b1e1539f2cc45b7b...|  discount|        20|     5|      10|['web', 'email']|f96754182a644785a...|offer completed| 348|              1|     5|  NULL|     1969-12-31 21:05:48|1969-12-31 21:05:48|\n",
      "|0b1e1539f2cc45b7b...|  discount|        20|     5|      10|['web', 'email']|f930b6a55d964983b...|offer completed| 378|              1|     5|  NULL|     1969-12-31 21:06:18|1969-12-31 21:06:18|\n",
      "|0b1e1539f2cc45b7b...|  discount|        20|     5|      10|['web', 'email']|f900feb23c6949d1a...|offer completed| 432|              1|     5|  NULL|     1969-12-31 21:07:12|1969-12-31 21:07:12|\n",
      "|0b1e1539f2cc45b7b...|  discount|        20|     5|      10|['web', 'email']|f7e127d8fc0449338...|offer completed| 582|              1|     5|  NULL|     1969-12-31 21:09:42|1969-12-31 21:09:42|\n",
      "|0b1e1539f2cc45b7b...|  discount|        20|     5|      10|['web', 'email']|f7a4d1d7beea4c049...|offer completed| 690|              1|     5|  NULL|     1969-12-31 21:11:30|1969-12-31 21:11:30|\n",
      "|0b1e1539f2cc45b7b...|  discount|        20|     5|      10|['web', 'email']|f74033a8c6834303b...|offer completed| 576|              1|     5|  NULL|     1969-12-31 21:09:36|1969-12-31 21:09:36|\n",
      "|0b1e1539f2cc45b7b...|  discount|        20|     5|      10|['web', 'email']|f630d4e757c042a08...|offer completed| 456|              1|     5|  NULL|     1969-12-31 21:07:36|1969-12-31 21:07:36|\n",
      "|0b1e1539f2cc45b7b...|  discount|        20|     5|      10|['web', 'email']|f56f4b62551b4ab98...|offer completed| 540|              1|     5|  NULL|     1969-12-31 21:09:00|1969-12-31 21:09:00|\n",
      "|0b1e1539f2cc45b7b...|  discount|        20|     5|      10|['web', 'email']|f4ef9a434c22420b8...|offer completed| 402|              1|     5|  NULL|     1969-12-31 21:06:42|1969-12-31 21:06:42|\n",
      "|0b1e1539f2cc45b7b...|  discount|        20|     5|      10|['web', 'email']|f4e0715b897c480e9...|offer completed| 474|              1|     5|  NULL|     1969-12-31 21:07:54|1969-12-31 21:07:54|\n",
      "|0b1e1539f2cc45b7b...|  discount|        20|     5|      10|['web', 'email']|f456bea341ef40179...|offer completed| 348|              1|     5|  NULL|     1969-12-31 21:05:48|1969-12-31 21:05:48|\n",
      "|0b1e1539f2cc45b7b...|  discount|        20|     5|      10|['web', 'email']|f3acf14291c040a5b...|offer completed| 330|              1|     5|  NULL|     1969-12-31 21:05:30|1969-12-31 21:05:30|\n",
      "|0b1e1539f2cc45b7b...|  discount|        20|     5|      10|['web', 'email']|f3934f05d51f47c7a...|offer completed| 456|              1|     5|  NULL|     1969-12-31 21:07:36|1969-12-31 21:07:36|\n",
      "|0b1e1539f2cc45b7b...|  discount|        20|     5|      10|['web', 'email']|f16dd6ace9f94998b...|offer completed| 462|              1|     5|  NULL|     1969-12-31 21:07:42|1969-12-31 21:07:42|\n",
      "+--------------------+----------+----------+------+--------+----------------+--------------------+---------------+----+---------------+------+------+------------------------+-------------------+\n",
      "only showing top 20 rows\n"
     ]
    },
    {
     "name": "stderr",
     "output_type": "stream",
     "text": [
      "25/06/23 16:15:39 ERROR Executor: Exception in task 0.0 in stage 129.0 (TID 249)\n",
      "org.apache.spark.SparkNumberFormatException: [CAST_INVALID_INPUT] The value '13.49' of the type \"STRING\" cannot be cast to \"BIGINT\" because it is malformed. Correct the value as per the syntax, or change its target type. Use `try_cast` to tolerate malformed input and return NULL instead. SQLSTATE: 22018\n",
      "== SQL (line 1, position 1) ==\n",
      "amount > 0\n",
      "^^^^^^^^^^\n",
      "\n",
      "\tat org.apache.spark.sql.errors.QueryExecutionErrors$.invalidInputInCastToNumberError(QueryExecutionErrors.scala:145)\n",
      "\tat org.apache.spark.sql.catalyst.util.UTF8StringUtils$.withException(UTF8StringUtils.scala:51)\n",
      "\tat org.apache.spark.sql.catalyst.util.UTF8StringUtils$.toLongExact(UTF8StringUtils.scala:31)\n",
      "\tat org.apache.spark.sql.catalyst.util.UTF8StringUtils.toLongExact(UTF8StringUtils.scala)\n",
      "\tat org.apache.spark.sql.catalyst.expressions.GeneratedClass$GeneratedIteratorForCodegenStage4.processNext(Unknown Source)\n",
      "\tat org.apache.spark.sql.execution.BufferedRowIterator.hasNext(BufferedRowIterator.java:43)\n",
      "\tat org.apache.spark.sql.execution.WholeStageCodegenEvaluatorFactory$WholeStageCodegenPartitionEvaluator$$anon$1.hasNext(WholeStageCodegenEvaluatorFactory.scala:50)\n",
      "\tat org.apache.spark.sql.execution.SparkPlan.$anonfun$getByteArrayRdd$1(SparkPlan.scala:402)\n",
      "\tat org.apache.spark.rdd.RDD.$anonfun$mapPartitionsInternal$2(RDD.scala:901)\n",
      "\tat org.apache.spark.rdd.RDD.$anonfun$mapPartitionsInternal$2$adapted(RDD.scala:901)\n",
      "\tat org.apache.spark.rdd.MapPartitionsRDD.compute(MapPartitionsRDD.scala:52)\n",
      "\tat org.apache.spark.rdd.RDD.computeOrReadCheckpoint(RDD.scala:374)\n",
      "\tat org.apache.spark.rdd.RDD.iterator(RDD.scala:338)\n",
      "\tat org.apache.spark.scheduler.ResultTask.runTask(ResultTask.scala:93)\n",
      "\tat org.apache.spark.TaskContext.runTaskWithListeners(TaskContext.scala:171)\n",
      "\tat org.apache.spark.scheduler.Task.run(Task.scala:147)\n",
      "\tat org.apache.spark.executor.Executor$TaskRunner.$anonfun$run$5(Executor.scala:647)\n",
      "\tat org.apache.spark.util.SparkErrorUtils.tryWithSafeFinally(SparkErrorUtils.scala:80)\n",
      "\tat org.apache.spark.util.SparkErrorUtils.tryWithSafeFinally$(SparkErrorUtils.scala:77)\n",
      "\tat org.apache.spark.util.Utils$.tryWithSafeFinally(Utils.scala:99)\n",
      "\tat org.apache.spark.executor.Executor$TaskRunner.run(Executor.scala:650)\n",
      "\tat java.base/java.util.concurrent.ThreadPoolExecutor.runWorker(ThreadPoolExecutor.java:1136)\n",
      "\tat java.base/java.util.concurrent.ThreadPoolExecutor$Worker.run(ThreadPoolExecutor.java:635)\n",
      "\tat java.base/java.lang.Thread.run(Thread.java:840)\n",
      "25/06/23 16:15:40 WARN TaskSetManager: Lost task 0.0 in stage 129.0 (TID 249) (192.168.0.7 executor driver): org.apache.spark.SparkNumberFormatException: [CAST_INVALID_INPUT] The value '13.49' of the type \"STRING\" cannot be cast to \"BIGINT\" because it is malformed. Correct the value as per the syntax, or change its target type. Use `try_cast` to tolerate malformed input and return NULL instead. SQLSTATE: 22018\n",
      "== SQL (line 1, position 1) ==\n",
      "amount > 0\n",
      "^^^^^^^^^^\n",
      "\n",
      "\tat org.apache.spark.sql.errors.QueryExecutionErrors$.invalidInputInCastToNumberError(QueryExecutionErrors.scala:145)\n",
      "\tat org.apache.spark.sql.catalyst.util.UTF8StringUtils$.withException(UTF8StringUtils.scala:51)\n",
      "\tat org.apache.spark.sql.catalyst.util.UTF8StringUtils$.toLongExact(UTF8StringUtils.scala:31)\n",
      "\tat org.apache.spark.sql.catalyst.util.UTF8StringUtils.toLongExact(UTF8StringUtils.scala)\n",
      "\tat org.apache.spark.sql.catalyst.expressions.GeneratedClass$GeneratedIteratorForCodegenStage4.processNext(Unknown Source)\n",
      "\tat org.apache.spark.sql.execution.BufferedRowIterator.hasNext(BufferedRowIterator.java:43)\n",
      "\tat org.apache.spark.sql.execution.WholeStageCodegenEvaluatorFactory$WholeStageCodegenPartitionEvaluator$$anon$1.hasNext(WholeStageCodegenEvaluatorFactory.scala:50)\n",
      "\tat org.apache.spark.sql.execution.SparkPlan.$anonfun$getByteArrayRdd$1(SparkPlan.scala:402)\n",
      "\tat org.apache.spark.rdd.RDD.$anonfun$mapPartitionsInternal$2(RDD.scala:901)\n",
      "\tat org.apache.spark.rdd.RDD.$anonfun$mapPartitionsInternal$2$adapted(RDD.scala:901)\n",
      "\tat org.apache.spark.rdd.MapPartitionsRDD.compute(MapPartitionsRDD.scala:52)\n",
      "\tat org.apache.spark.rdd.RDD.computeOrReadCheckpoint(RDD.scala:374)\n",
      "\tat org.apache.spark.rdd.RDD.iterator(RDD.scala:338)\n",
      "\tat org.apache.spark.scheduler.ResultTask.runTask(ResultTask.scala:93)\n",
      "\tat org.apache.spark.TaskContext.runTaskWithListeners(TaskContext.scala:171)\n",
      "\tat org.apache.spark.scheduler.Task.run(Task.scala:147)\n",
      "\tat org.apache.spark.executor.Executor$TaskRunner.$anonfun$run$5(Executor.scala:647)\n",
      "\tat org.apache.spark.util.SparkErrorUtils.tryWithSafeFinally(SparkErrorUtils.scala:80)\n",
      "\tat org.apache.spark.util.SparkErrorUtils.tryWithSafeFinally$(SparkErrorUtils.scala:77)\n",
      "\tat org.apache.spark.util.Utils$.tryWithSafeFinally(Utils.scala:99)\n",
      "\tat org.apache.spark.executor.Executor$TaskRunner.run(Executor.scala:650)\n",
      "\tat java.base/java.util.concurrent.ThreadPoolExecutor.runWorker(ThreadPoolExecutor.java:1136)\n",
      "\tat java.base/java.util.concurrent.ThreadPoolExecutor$Worker.run(ThreadPoolExecutor.java:635)\n",
      "\tat java.base/java.lang.Thread.run(Thread.java:840)\n",
      "\n",
      "25/06/23 16:15:40 ERROR TaskSetManager: Task 0 in stage 129.0 failed 1 times; aborting job\n",
      "{\"ts\": \"2025-06-23 16:15:40.055\", \"level\": \"ERROR\", \"logger\": \"SQLQueryContextLogger\", \"msg\": \"[CAST_INVALID_INPUT] The value '13.49' of the type \\\"STRING\\\" cannot be cast to \\\"BIGINT\\\" because it is malformed. Correct the value as per the syntax, or change its target type. Use `try_cast` to tolerate malformed input and return NULL instead. SQLSTATE: 22018\", \"context\": {\"errorClass\": \"CAST_INVALID_INPUT\"}, \"exception\": {\"class\": \"Py4JJavaError\", \"msg\": \"An error occurred while calling o10774.showString.\\n: org.apache.spark.SparkNumberFormatException: [CAST_INVALID_INPUT] The value '13.49' of the type \\\"STRING\\\" cannot be cast to \\\"BIGINT\\\" because it is malformed. Correct the value as per the syntax, or change its target type. Use `try_cast` to tolerate malformed input and return NULL instead. SQLSTATE: 22018\\n== SQL (line 1, position 1) ==\\namount > 0\\n^^^^^^^^^^\\n\\n\\tat org.apache.spark.sql.errors.QueryExecutionErrors$.invalidInputInCastToNumberError(QueryExecutionErrors.scala:145)\\n\\tat org.apache.spark.sql.catalyst.util.UTF8StringUtils$.withException(UTF8StringUtils.scala:51)\\n\\tat org.apache.spark.sql.catalyst.util.UTF8StringUtils$.toLongExact(UTF8StringUtils.scala:31)\\n\\tat org.apache.spark.sql.catalyst.util.UTF8StringUtils.toLongExact(UTF8StringUtils.scala)\\n\\tat org.apache.spark.sql.catalyst.expressions.GeneratedClass$GeneratedIteratorForCodegenStage4.processNext(Unknown Source)\\n\\tat org.apache.spark.sql.execution.BufferedRowIterator.hasNext(BufferedRowIterator.java:43)\\n\\tat org.apache.spark.sql.execution.WholeStageCodegenEvaluatorFactory$WholeStageCodegenPartitionEvaluator$$anon$1.hasNext(WholeStageCodegenEvaluatorFactory.scala:50)\\n\\tat org.apache.spark.sql.execution.SparkPlan.$anonfun$getByteArrayRdd$1(SparkPlan.scala:402)\\n\\tat org.apache.spark.rdd.RDD.$anonfun$mapPartitionsInternal$2(RDD.scala:901)\\n\\tat org.apache.spark.rdd.RDD.$anonfun$mapPartitionsInternal$2$adapted(RDD.scala:901)\\n\\tat org.apache.spark.rdd.MapPartitionsRDD.compute(MapPartitionsRDD.scala:52)\\n\\tat org.apache.spark.rdd.RDD.computeOrReadCheckpoint(RDD.scala:374)\\n\\tat org.apache.spark.rdd.RDD.iterator(RDD.scala:338)\\n\\tat org.apache.spark.scheduler.ResultTask.runTask(ResultTask.scala:93)\\n\\tat org.apache.spark.TaskContext.runTaskWithListeners(TaskContext.scala:171)\\n\\tat org.apache.spark.scheduler.Task.run(Task.scala:147)\\n\\tat org.apache.spark.executor.Executor$TaskRunner.$anonfun$run$5(Executor.scala:647)\\n\\tat org.apache.spark.util.SparkErrorUtils.tryWithSafeFinally(SparkErrorUtils.scala:80)\\n\\tat org.apache.spark.util.SparkErrorUtils.tryWithSafeFinally$(SparkErrorUtils.scala:77)\\n\\tat org.apache.spark.util.Utils$.tryWithSafeFinally(Utils.scala:99)\\n\\tat org.apache.spark.executor.Executor$TaskRunner.run(Executor.scala:650)\\n\\tat java.base/java.util.concurrent.ThreadPoolExecutor.runWorker(ThreadPoolExecutor.java:1136)\\n\\tat java.base/java.util.concurrent.ThreadPoolExecutor$Worker.run(ThreadPoolExecutor.java:635)\\n\\tat java.base/java.lang.Thread.run(Thread.java:840)\\n\\tat org.apache.spark.scheduler.DAGScheduler.runJob(DAGScheduler.scala:1009)\\n\\tat org.apache.spark.SparkContext.runJob(SparkContext.scala:2484)\\n\\tat org.apache.spark.SparkContext.runJob(SparkContext.scala:2505)\\n\\tat org.apache.spark.SparkContext.runJob(SparkContext.scala:2524)\\n\\tat org.apache.spark.sql.execution.SparkPlan.executeTake(SparkPlan.scala:544)\\n\\tat org.apache.spark.sql.execution.SparkPlan.executeTake(SparkPlan.scala:497)\\n\\tat org.apache.spark.sql.execution.CollectLimitExec.executeCollect(limit.scala:58)\\n\\tat org.apache.spark.sql.execution.adaptive.AdaptiveSparkPlanExec.$anonfun$executeCollect$1(AdaptiveSparkPlanExec.scala:402)\\n\\tat org.apache.spark.sql.execution.adaptive.ResultQueryStageExec.$anonfun$doMaterialize$1(QueryStageExec.scala:325)\\n\\tat org.apache.spark.sql.execution.SQLExecution$.$anonfun$withThreadLocalCaptured$4(SQLExecution.scala:318)\\n\\tat org.apache.spark.sql.execution.SQLExecution$.withSessionTagsApplied(SQLExecution.scala:268)\\n\\tat org.apache.spark.sql.execution.SQLExecution$.$anonfun$withThreadLocalCaptured$3(SQLExecution.scala:316)\\n\\tat org.apache.spark.JobArtifactSet$.withActiveJobArtifactState(JobArtifactSet.scala:94)\\n\\tat org.apache.spark.sql.execution.SQLExecution$.$anonfun$withThreadLocalCaptured$2(SQLExecution.scala:312)\\n\\tat java.base/java.util.concurrent.CompletableFuture$AsyncSupply.run(CompletableFuture.java:1768)\\n\\tat java.base/java.util.concurrent.ThreadPoolExecutor.runWorker(ThreadPoolExecutor.java:1136)\\n\\tat java.base/java.util.concurrent.ThreadPoolExecutor$Worker.run(ThreadPoolExecutor.java:635)\\n\\tat java.base/java.lang.Thread.run(Thread.java:840)\\n\", \"stacktrace\": [{\"class\": null, \"method\": \"deco\", \"file\": \"/usr/local/lib/python3.11/site-packages/pyspark/errors/exceptions/captured.py\", \"line\": \"282\"}, {\"class\": null, \"method\": \"get_return_value\", \"file\": \"/usr/local/lib/python3.11/site-packages/py4j/protocol.py\", \"line\": \"327\"}]}}\n",
      "ERROR:SQLQueryContextLogger:[CAST_INVALID_INPUT] The value '13.49' of the type \"STRING\" cannot be cast to \"BIGINT\" because it is malformed. Correct the value as per the syntax, or change its target type. Use `try_cast` to tolerate malformed input and return NULL instead. SQLSTATE: 22018\n",
      "Traceback (most recent call last):\n",
      "  File \"/usr/local/lib/python3.11/site-packages/pyspark/errors/exceptions/captured.py\", line 282, in deco\n",
      "    return f(*a, **kw)\n",
      "           ^^^^^^^^^^^\n",
      "  File \"/usr/local/lib/python3.11/site-packages/py4j/protocol.py\", line 327, in get_return_value\n",
      "    raise Py4JJavaError(\n",
      "py4j.protocol.Py4JJavaError: An error occurred while calling o10774.showString.\n",
      ": org.apache.spark.SparkNumberFormatException: [CAST_INVALID_INPUT] The value '13.49' of the type \"STRING\" cannot be cast to \"BIGINT\" because it is malformed. Correct the value as per the syntax, or change its target type. Use `try_cast` to tolerate malformed input and return NULL instead. SQLSTATE: 22018\n",
      "== SQL (line 1, position 1) ==\n",
      "amount > 0\n",
      "^^^^^^^^^^\n",
      "\n",
      "\tat org.apache.spark.sql.errors.QueryExecutionErrors$.invalidInputInCastToNumberError(QueryExecutionErrors.scala:145)\n",
      "\tat org.apache.spark.sql.catalyst.util.UTF8StringUtils$.withException(UTF8StringUtils.scala:51)\n",
      "\tat org.apache.spark.sql.catalyst.util.UTF8StringUtils$.toLongExact(UTF8StringUtils.scala:31)\n",
      "\tat org.apache.spark.sql.catalyst.util.UTF8StringUtils.toLongExact(UTF8StringUtils.scala)\n",
      "\tat org.apache.spark.sql.catalyst.expressions.GeneratedClass$GeneratedIteratorForCodegenStage4.processNext(Unknown Source)\n",
      "\tat org.apache.spark.sql.execution.BufferedRowIterator.hasNext(BufferedRowIterator.java:43)\n",
      "\tat org.apache.spark.sql.execution.WholeStageCodegenEvaluatorFactory$WholeStageCodegenPartitionEvaluator$$anon$1.hasNext(WholeStageCodegenEvaluatorFactory.scala:50)\n",
      "\tat org.apache.spark.sql.execution.SparkPlan.$anonfun$getByteArrayRdd$1(SparkPlan.scala:402)\n",
      "\tat org.apache.spark.rdd.RDD.$anonfun$mapPartitionsInternal$2(RDD.scala:901)\n",
      "\tat org.apache.spark.rdd.RDD.$anonfun$mapPartitionsInternal$2$adapted(RDD.scala:901)\n",
      "\tat org.apache.spark.rdd.MapPartitionsRDD.compute(MapPartitionsRDD.scala:52)\n",
      "\tat org.apache.spark.rdd.RDD.computeOrReadCheckpoint(RDD.scala:374)\n",
      "\tat org.apache.spark.rdd.RDD.iterator(RDD.scala:338)\n",
      "\tat org.apache.spark.scheduler.ResultTask.runTask(ResultTask.scala:93)\n",
      "\tat org.apache.spark.TaskContext.runTaskWithListeners(TaskContext.scala:171)\n",
      "\tat org.apache.spark.scheduler.Task.run(Task.scala:147)\n",
      "\tat org.apache.spark.executor.Executor$TaskRunner.$anonfun$run$5(Executor.scala:647)\n",
      "\tat org.apache.spark.util.SparkErrorUtils.tryWithSafeFinally(SparkErrorUtils.scala:80)\n",
      "\tat org.apache.spark.util.SparkErrorUtils.tryWithSafeFinally$(SparkErrorUtils.scala:77)\n",
      "\tat org.apache.spark.util.Utils$.tryWithSafeFinally(Utils.scala:99)\n",
      "\tat org.apache.spark.executor.Executor$TaskRunner.run(Executor.scala:650)\n",
      "\tat java.base/java.util.concurrent.ThreadPoolExecutor.runWorker(ThreadPoolExecutor.java:1136)\n",
      "\tat java.base/java.util.concurrent.ThreadPoolExecutor$Worker.run(ThreadPoolExecutor.java:635)\n",
      "\tat java.base/java.lang.Thread.run(Thread.java:840)\n",
      "\tat org.apache.spark.scheduler.DAGScheduler.runJob(DAGScheduler.scala:1009)\n",
      "\tat org.apache.spark.SparkContext.runJob(SparkContext.scala:2484)\n",
      "\tat org.apache.spark.SparkContext.runJob(SparkContext.scala:2505)\n",
      "\tat org.apache.spark.SparkContext.runJob(SparkContext.scala:2524)\n",
      "\tat org.apache.spark.sql.execution.SparkPlan.executeTake(SparkPlan.scala:544)\n",
      "\tat org.apache.spark.sql.execution.SparkPlan.executeTake(SparkPlan.scala:497)\n",
      "\tat org.apache.spark.sql.execution.CollectLimitExec.executeCollect(limit.scala:58)\n",
      "\tat org.apache.spark.sql.execution.adaptive.AdaptiveSparkPlanExec.$anonfun$executeCollect$1(AdaptiveSparkPlanExec.scala:402)\n",
      "\tat org.apache.spark.sql.execution.adaptive.ResultQueryStageExec.$anonfun$doMaterialize$1(QueryStageExec.scala:325)\n",
      "\tat org.apache.spark.sql.execution.SQLExecution$.$anonfun$withThreadLocalCaptured$4(SQLExecution.scala:318)\n",
      "\tat org.apache.spark.sql.execution.SQLExecution$.withSessionTagsApplied(SQLExecution.scala:268)\n",
      "\tat org.apache.spark.sql.execution.SQLExecution$.$anonfun$withThreadLocalCaptured$3(SQLExecution.scala:316)\n",
      "\tat org.apache.spark.JobArtifactSet$.withActiveJobArtifactState(JobArtifactSet.scala:94)\n",
      "\tat org.apache.spark.sql.execution.SQLExecution$.$anonfun$withThreadLocalCaptured$2(SQLExecution.scala:312)\n",
      "\tat java.base/java.util.concurrent.CompletableFuture$AsyncSupply.run(CompletableFuture.java:1768)\n",
      "\tat java.base/java.util.concurrent.ThreadPoolExecutor.runWorker(ThreadPoolExecutor.java:1136)\n",
      "\tat java.base/java.util.concurrent.ThreadPoolExecutor$Worker.run(ThreadPoolExecutor.java:635)\n",
      "\tat java.base/java.lang.Thread.run(Thread.java:840)\n",
      "\n",
      "                                                                                \r"
     ]
    },
    {
     "name": "stdout",
     "output_type": "stream",
     "text": [
      "+--------+----------+----------+------+--------+--------+-----------+-----+----+---------------+------+------+------------------------+--------------+\n",
      "|offer_id|offer_type|difficulty|reward|duration|channels|customer_id|event|time|offer_completed|reward|amount|event_timestamp_readable|event_datetime|\n",
      "+--------+----------+----------+------+--------+--------+-----------+-----+----+---------------+------+------+------------------------+--------------+\n",
      "+--------+----------+----------+------+--------+--------+-----------+-----+----+---------------+------+------+------------------------+--------------+\n",
      "\n"
     ]
    },
    {
     "name": "stderr",
     "output_type": "stream",
     "text": [
      "[Stage 138:>                                                        (0 + 7) / 7]\r"
     ]
    },
    {
     "name": "stdout",
     "output_type": "stream",
     "text": [
      "+--------------------+---------------+----+---------------+--------------------+------+------+------------------------+-------------------+\n",
      "|         customer_id|          event|time|offer_completed|            offer_id|reward|amount|event_timestamp_readable|     event_datetime|\n",
      "+--------------------+---------------+----+---------------+--------------------+------+------+------------------------+-------------------+\n",
      "|0009655768c64bdeb...|   offer viewed| 192|              0|                NULL|  NULL|  NULL|     1969-12-31 21:03:12|1969-12-31 21:03:12|\n",
      "|0009655768c64bdeb...|   offer viewed| 372|              0|                NULL|  NULL|  NULL|     1969-12-31 21:06:12|1969-12-31 21:06:12|\n",
      "|0011e0d4e6b944f99...|   offer viewed| 354|              0|                NULL|  NULL|  NULL|     1969-12-31 21:05:54|1969-12-31 21:05:54|\n",
      "|0011e0d4e6b944f99...|    transaction| 132|              0|                NULL|  NULL| 13.49|     1969-12-31 21:02:12|1969-12-31 21:02:12|\n",
      "|0020c2b971eb4e918...| offer received| 168|              0|                NULL|  NULL|  NULL|     1969-12-31 21:02:48|1969-12-31 21:02:48|\n",
      "|0020c2b971eb4e918...|   offer viewed| 426|              0|                NULL|  NULL|  NULL|     1969-12-31 21:07:06|1969-12-31 21:07:06|\n",
      "|0020ccbbb6d84e358...|offer completed| 378|              1|f19421c1d4aa40978...|     5|  NULL|     1969-12-31 21:06:18|1969-12-31 21:06:18|\n",
      "|003d66b6608740288...|    transaction| 204|              0|                NULL|  NULL|  1.48|     1969-12-31 21:03:24|1969-12-31 21:03:24|\n",
      "|003d66b6608740288...|    transaction| 402|              0|                NULL|  NULL|  5.94|     1969-12-31 21:06:42|1969-12-31 21:06:42|\n",
      "|003d66b6608740288...|    transaction| 480|              0|                NULL|  NULL|  0.91|     1969-12-31 21:08:00|1969-12-31 21:08:00|\n",
      "|00426fe3ffde4c6b9...|    transaction|  54|              0|                NULL|  NULL|  4.74|     1969-12-31 21:00:54|1969-12-31 21:00:54|\n",
      "|004b041fbfe448599...|    transaction| 390|              0|                NULL|  NULL| 19.48|     1969-12-31 21:06:30|1969-12-31 21:06:30|\n",
      "|004c5799adbf42868...|offer completed| 336|              1|ae264e3637204a6fb...|    10|  NULL|     1969-12-31 21:05:36|1969-12-31 21:05:36|\n",
      "|004c5799adbf42868...|offer completed| 432|              1|f19421c1d4aa40978...|     5|  NULL|     1969-12-31 21:07:12|1969-12-31 21:07:12|\n",
      "|004c5799adbf42868...| offer received| 504|              0|                NULL|  NULL|  NULL|     1969-12-31 21:08:24|1969-12-31 21:08:24|\n",
      "|005500a7188546ff8...| offer received| 168|              0|                NULL|  NULL|  NULL|     1969-12-31 21:02:48|1969-12-31 21:02:48|\n",
      "|0056df74b63b42988...| offer received| 504|              0|                NULL|  NULL|  NULL|     1969-12-31 21:08:24|1969-12-31 21:08:24|\n",
      "|0056df74b63b42988...|   offer viewed|  24|              0|                NULL|  NULL|  NULL|     1969-12-31 21:00:24|1969-12-31 21:00:24|\n",
      "|0063def0f9c14bc48...| offer received| 168|              0|                NULL|  NULL|  NULL|     1969-12-31 21:02:48|1969-12-31 21:02:48|\n",
      "|0063def0f9c14bc48...|   offer viewed| 510|              0|                NULL|  NULL|  NULL|     1969-12-31 21:08:30|1969-12-31 21:08:30|\n",
      "+--------------------+---------------+----+---------------+--------------------+------+------+------------------------+-------------------+\n",
      "only showing top 20 rows\n"
     ]
    },
    {
     "name": "stderr",
     "output_type": "stream",
     "text": [
      "[Stage 141:>                                                        (0 + 7) / 7]\r"
     ]
    },
    {
     "name": "stdout",
     "output_type": "stream",
     "text": [
      "root\n",
      " |-- offer_id: string (nullable = true)\n",
      " |-- offer_type: string (nullable = true)\n",
      " |-- difficulty: integer (nullable = true)\n",
      " |-- reward: integer (nullable = true)\n",
      " |-- duration: integer (nullable = true)\n",
      " |-- channels: string (nullable = true)\n",
      "\n",
      "root\n",
      " |-- customer_id: string (nullable = true)\n",
      " |-- event: string (nullable = true)\n",
      " |-- time: integer (nullable = true)\n",
      " |-- offer_completed: integer (nullable = false)\n",
      " |-- offer_id: string (nullable = true)\n",
      " |-- reward: string (nullable = true)\n",
      " |-- amount: string (nullable = true)\n",
      " |-- event_timestamp_readable: string (nullable = true)\n",
      " |-- event_datetime: timestamp (nullable = true)\n",
      "\n"
     ]
    },
    {
     "name": "stderr",
     "output_type": "stream",
     "text": [
      "[Stage 142:>                                                        (0 + 7) / 7]\r"
     ]
    },
    {
     "name": "stdout",
     "output_type": "stream",
     "text": [
      "+--------+------+\n",
      "|offer_id|amount|\n",
      "+--------+------+\n",
      "|    NULL| 13.49|\n",
      "|    NULL|  1.48|\n",
      "|    NULL|  5.94|\n",
      "|    NULL|  0.91|\n",
      "|    NULL|  4.74|\n",
      "|    NULL| 19.48|\n",
      "|    NULL|  2.06|\n",
      "|    NULL| 22.33|\n",
      "|    NULL| 24.88|\n",
      "|    NULL|  5.11|\n",
      "|    NULL|  0.91|\n",
      "|    NULL|  1.06|\n",
      "|    NULL| 32.45|\n",
      "|    NULL|  0.48|\n",
      "|    NULL|  3.24|\n",
      "|    NULL|  5.07|\n",
      "|    NULL|  6.92|\n",
      "|    NULL|  2.51|\n",
      "|    NULL|  5.96|\n",
      "|    NULL| 11.27|\n",
      "+--------+------+\n",
      "only showing top 20 rows\n"
     ]
    },
    {
     "name": "stderr",
     "output_type": "stream",
     "text": [
      "                                                                                \r"
     ]
    },
    {
     "name": "stdout",
     "output_type": "stream",
     "text": [
      "+--------+------+\n",
      "|offer_id|amount|\n",
      "+--------+------+\n",
      "+--------+------+\n",
      "\n",
      "\n",
      "Top 10 Customers by Lifetime Value (Total Spent):\n"
     ]
    },
    {
     "name": "stderr",
     "output_type": "stream",
     "text": [
      "[Stage 152:>                                                        (0 + 7) / 7]\r"
     ]
    },
    {
     "name": "stdout",
     "output_type": "stream",
     "text": [
      "+-----------+-----------+\n",
      "|customer_id|total_spent|\n",
      "+-----------+-----------+\n",
      "+-----------+-----------+\n",
      "\n"
     ]
    }
   ],
   "source": [
    "from pyspark.sql import SparkSession\n",
    "from pyspark.sql.functions import col, lit, when, count, sum, avg, from_unixtime, to_timestamp, get_json_object, trim, explode, first, from_json\n",
    "from pyspark.sql.types import StructType, StringType, MapType, StringType\n",
    "from pyspark.sql.window import Window\n",
    "\n",
    "spark = SparkSession.builder \\\n",
    "    .appName(\"CafeRewardsDataPipeline\") \\\n",
    "    .config(\"spark.sql.legacy.timeParserPolicy\", \"LEGACY\") \\\n",
    "    .getOrCreate()\n",
    "\n",
    "\n",
    "customers_file = \"/Users/rafaelcamara/dev/ballastlane/archive/customers.csv\"\n",
    "offers_file = \"/Users/rafaelcamara/dev/ballastlane/archive/offers.csv\"\n",
    "events_file = \"/Users/rafaelcamara/dev/ballastlane/archive/events.csv\"\n",
    "\n",
    "print(\"Ingesting raw data...\")\n",
    "customers_df = spark.read.csv(customers_file, header=True, inferSchema=True)\n",
    "offers_df = spark.read.csv(offers_file, header=True, inferSchema=True)\n",
    "raw_events_df = spark.read.csv(events_file, header=True, inferSchema=True)\n",
    "\n",
    "\n",
    "# Identify if the offer was completed\n",
    "events_df = raw_events_df.withColumn(\n",
    "    \"offer_completed\",\n",
    "    when(trim(col(\"event\")) == \"offer completed\", lit(1)).otherwise(lit(0))\n",
    ")\n",
    "\n",
    "# flatten the JSON structure in the \"value\" column\n",
    "# Explode the map to key-value pairs\n",
    "\n",
    "# Parse the JSON string into a Map\n",
    "value_map_df = events_df.withColumn(\"value_map\", from_json(col(\"value\"), MapType(StringType(), StringType())))\n",
    "\n",
    "exploded_df = value_map_df.select(\n",
    "    \"customer_id\", \n",
    "    \"event\", \n",
    "    explode(\"value_map\").alias(\"key\", \"val\"),\n",
    "    \"time\",\n",
    "    \"offer_completed\"\n",
    ")\n",
    "\n",
    "pivoted_df = exploded_df.groupBy(\"customer_id\", \"event\", \"time\",\"offer_completed\") \\\n",
    "    .pivot(\"key\", [\"offer_id\", \"reward\", \"amount\"]) \\\n",
    "    .agg(first(\"val\"))\n",
    "\n",
    "\n",
    "events_df = pivoted_df.withColumn(\"event_timestamp_readable\", \n",
    "                                             from_unixtime(col(\"time\")))\n",
    "events_df = events_df.withColumn(\"event_datetime\", \n",
    "                                             to_timestamp(col(\"event_timestamp_readable\")))\n",
    "\n",
    "# Join dataframes\n",
    "# Join events with offers to get offer details for each event\n",
    "events_with_offers = offers_df.join(events_df, \"offer_id\", \"left\")\n",
    "\n",
    "\n",
    "customer_with_events = customers_df.join(events_df, \"customer_id\", \"left\")\n",
    "\n",
    "# Join with customers to get customer demographics\n",
    "full_df = customers_df.join(events_with_offers, \"customer_id\", \"left\")\n",
    "\n",
    "# Analytical Questions\n",
    "print(\"\\n--- Analytical Results ---\")\n",
    "\n",
    "# 1. Total number of customers\n",
    "total_customers = customers_df.count()\n",
    "print(f\"Total number of customers: {total_customers}\")\n",
    "\n",
    "# 2. Total number of offers\n",
    "total_offers = offers_df.count()\n",
    "print(f\"Total number of offers: {total_offers}\")\n",
    "\n",
    "# 3. Total number of events\n",
    "total_events = events_df.count()\n",
    "print(f\"Total number of events: {total_events}\")\n",
    "\n",
    "# 4. Number of unique customers who made a purchase\n",
    "unique_purchasing_customers = full_df.filter(col(\"event\") == \"transaction\") \\\n",
    "                                     .select(\"customer_id\").distinct().count()\n",
    "print(f\"Number of unique customers who made a purchase: {unique_purchasing_customers}\")\n",
    "\n",
    "# 5. Top 5 most popular offers (by number of views or purchases)\n",
    "# Assuming popularity is based on purchases within the offer period\n",
    "top_5_offers = full_df.filter(col(\"offer_completed\") == 1) \\\n",
    "                      .groupBy(\"offer_id\", \"offer_type\") \\\n",
    "                      .agg(count(\"offer_id\").alias(\"purchase_count\")) \\\n",
    "                      .orderBy(col(\"purchase_count\").desc()) \\\n",
    "                      .limit(5)\n",
    "print(\"\\nTop 5 most popular offers (by number of completed offers):\")\n",
    "top_5_offers.show(truncate=False)\n",
    "\n",
    "# 6. Average transaction amount\n",
    "# Filter for purchase events only, extract \"amount\" from JSON in \"value\"\n",
    "average_transaction_amount = events_df.filter(col(\"event\") == \"transaction\") \\\n",
    "    .agg(avg(col(\"amount\").cast(\"double\"))).collect()[0][0]\n",
    "    #.agg(avg(get_json_object(col(\"value\"), \"$.amount\").cast(\"double\"))).collect()[0][0]\n",
    "print(f\"Average transaction amount: {average_transaction_amount:.2f}\")\n",
    "\n",
    "# 7. Number of offers completed vs. not completed\n",
    "completion_window = Window.partitionBy(\"offer_completed\")\n",
    "\n",
    "offers_completion_status= events_df.select(\n",
    "    \"offer_completed\",\n",
    "    count(\"*\").over(completion_window).alias(\"completion_count\")\n",
    ").dropDuplicates()\n",
    "\"\"\"\n",
    "offers_completion_status = events_df.groupBy(\"offer_completed\") \\\n",
    "                                   .agg(count(\"offer_id\").alias(\"count\"))\n",
    "\"\"\"                                   \n",
    "print(\"\\nNumber of offers completed vs. not completed:\")\n",
    "offers_completion_status.show()\n",
    "\n",
    "# 8. Distribution of customers by age group\n",
    "# Assuming age is available in customers_df and is numerical\n",
    "# For simplicity, let\\'s define some age groups\n",
    "customers_df = customers_df.withColumn(\"age_group\", \n",
    "                                     when(col(\"age\") < 25, \"<25\") \\\n",
    "                                     .when((col(\"age\") >= 25) & (col(\"age\") < 35), \"25-34\") \\\n",
    "                                     .when((col(\"age\") >= 35) & (col(\"age\") < 45), \"35-44\") \\\n",
    "                                     .when((col(\"age\") >= 45) & (col(\"age\") < 55), \"45-54\") \\\n",
    "                                     .when((col(\"age\") >= 55) & (col(\"age\") < 65), \"55-64\") \\\n",
    "                                     .otherwise(\"65+\"))\n",
    "\n",
    "age_distribution = customers_df.groupBy(\"age_group\").agg(count(\"customer_id\").alias(\"customer_count\")) \\\n",
    "                               .orderBy(\"age_group\")\n",
    "print(\"\\nCustomer distribution by age group:\")\n",
    "age_distribution.show()\n",
    "\n",
    "# 9. Offers with highest completion rate\n",
    "# Calculate total offers viewed/received and completed offers per offer_id\n",
    "offer_summary = full_df.groupBy(\"offer_id\", \"offer_type\") \\\n",
    "                         .agg(count(\"offer_id\").alias(\"total_events\"), \n",
    "                              sum(col(\"offer_completed\")).alias(\"completed_offers\"))\n",
    "\n",
    "offer_completion_rate = offer_summary.withColumn(\n",
    "    \"completion_rate\",\n",
    "    when(col(\"total_events\") != 0, (col(\"completed_offers\") / col(\"total_events\")) * 100).otherwise(None)\n",
    ")\n",
    "\n",
    "highest_completion_rate_offers = offer_completion_rate.orderBy(col(\"completion_rate\").desc()) \\\n",
    "                                                       .limit(5)\n",
    "print(\"\\nOffers with highest completion rate:\")\n",
    "highest_completion_rate_offers.show(truncate=False)\n",
    "\n",
    "# 10. Customer lifetime value (CLV) - simplified: total transaction amount per customer\n",
    "customer_clv = customer_with_events.filter(col(\"event\") == \"transaction\") \\\n",
    "                       .groupBy(\"customer_id\") \\\n",
    "                       .agg(sum(col(\"amount\").cast(\"double\")).alias(\"total_spent\")) \\\n",
    "                       .orderBy(col(\"total_spent\").desc())\n",
    "\n",
    "print(\"\\nTop 10 Customers by Lifetime Value (Total Spent):\")\n",
    "customer_clv.limit(10).show()\n",
    "\n",
    "spark.stop()"
   ]
  }
 ],
 "metadata": {
  "kernelspec": {
   "display_name": "Python 3",
   "language": "python",
   "name": "python3"
  },
  "language_info": {
   "codemirror_mode": {
    "name": "ipython",
    "version": 3
   },
   "file_extension": ".py",
   "mimetype": "text/x-python",
   "name": "python",
   "nbconvert_exporter": "python",
   "pygments_lexer": "ipython3",
   "version": "3.11.13"
  }
 },
 "nbformat": 4,
 "nbformat_minor": 5
}
